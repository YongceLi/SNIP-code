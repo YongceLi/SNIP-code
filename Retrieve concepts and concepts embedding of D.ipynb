{
 "cells": [
  {
   "cell_type": "code",
   "execution_count": null,
   "id": "e2d3f54b",
   "metadata": {},
   "outputs": [],
   "source": [
    "import numpy as np\n",
    "import random\n",
    "import pandas as pd\n",
    "from tqdm import tqdm\n",
    "import openai\n",
    "from openai import OpenAI\n",
    "import time\n",
    "import os\n",
    "from datasets import load_dataset\n",
    "from sklearn.metrics import f1_score\n",
    "openai.api_key = os.environ[\"OPENAI_API_KEY\"]\n",
    "from nltk import sent_tokenize"
   ]
  },
  {
   "cell_type": "code",
   "execution_count": null,
   "id": "54724a4e",
   "metadata": {},
   "outputs": [],
   "source": [
    "# OpenAI client\n",
    "client = OpenAI(\n",
    "    api_key=os.environ.get(\"OPENAI_API_KEY\"),\n",
    ")"
   ]
  },
  {
   "cell_type": "code",
   "execution_count": null,
   "id": "36054785",
   "metadata": {},
   "outputs": [],
   "source": [
    "# load dataset\n",
    "CBT_V_train_df = pd.read_parquet('data/CBT_V.parquet')\n",
    "CBT_P_train_df = pd.read_parquet('data/CBT_P.parquet')"
   ]
  },
  {
   "cell_type": "code",
   "execution_count": null,
   "id": "ed228c8d",
   "metadata": {},
   "outputs": [],
   "source": [
    "# function to get k sample from CBT V dataset\n",
    "def get_samples(k):\n",
    "    returned_str = \"\"\n",
    "    for i in range(k):\n",
    "        curr_str = f\"Sample{i}: \" + \"\\n\".join(list(CBT_V_train_df[\"sentences\"].iloc[0]))\n",
    "        returned_str += curr_str + '\\n\\n'\n",
    "    return returned_str"
   ]
  },
  {
   "cell_type": "code",
   "execution_count": null,
   "id": "b819a3f8",
   "metadata": {},
   "outputs": [],
   "source": [
    "# test Prompt\n",
    "prompt = f\"\"\"\n",
    "We're studying how neurons in a neural network affect the model's performance on specific tasks. Each neuron looks for some particular thing in a short document. To measure how neurons are related to the given task, we want to know what concepts are important for the task. \n",
    "\n",
    "Neuron concepts examples:\n",
    "1. the past and present tense of the verb \"to be\" (was, were, is).\n",
    "2. variations of the verb 'be'.\n",
    "3. modal verbs, especially \"would\" and \"were\".\n",
    "4. action verbs related to starting or beginning.\n",
    "5. future tense verbs and words related to commitment.\n",
    "6. the usage of the verb \"to be\" and its conjugations.\n",
    "7. the verb 'use' and its variations.\n",
    "8. the word \"could\" and similar auxiliary verbs indicating possibility.\n",
    "9. the word \"like\" and its variations, as well as other verbs expressing desire or interest.\n",
    "10. verbs related to posting and sharing information.\n",
    "\n",
    "Given the input samples below:\n",
    "\n",
    "{get_samples(10)}\n",
    "\n",
    "List a comprehensive list of categories of concepts that are important for language models to comprehend the given texts. Output in the following format:\n",
    "1. concept1\n",
    "2. concept2\n",
    "...\n",
    "\"\"\""
   ]
  },
  {
   "cell_type": "code",
   "execution_count": null,
   "id": "71397b5d",
   "metadata": {
    "scrolled": false
   },
   "outputs": [],
   "source": [
    "print(prompt)"
   ]
  },
  {
   "cell_type": "code",
   "execution_count": null,
   "id": "ac911f1d",
   "metadata": {},
   "outputs": [],
   "source": [
    "response = client.chat.completions.create(\n",
    "            messages=[\n",
    "                {\n",
    "                    \"role\": \"user\",\n",
    "                    \"content\": prompt,\n",
    "                }\n",
    "            ],\n",
    "            model=\"gpt-4\",\n",
    "        )"
   ]
  },
  {
   "cell_type": "code",
   "execution_count": null,
   "id": "28e5397f",
   "metadata": {},
   "outputs": [],
   "source": [
    "def convert_to_list(input_str):\n",
    "    lines = input_str.split(\"\\n\")\n",
    "    result_list = []\n",
    "    for line in lines:\n",
    "        item = line.split('.', 1)[1].strip() if '.' in line else line.strip()\n",
    "        result_list.append(item)\n",
    "    return result_list"
   ]
  },
  {
   "cell_type": "code",
   "execution_count": null,
   "id": "d8290467",
   "metadata": {},
   "outputs": [],
   "source": [
    "concept_list = convert_to_list(response.choices[0].message.content)"
   ]
  },
  {
   "cell_type": "code",
   "execution_count": null,
   "id": "7edfec48",
   "metadata": {},
   "outputs": [],
   "source": [
    "# generated concepts\n",
    "for i in range(len(concept_list)):\n",
    "    print(f\"{i}. {concept_list[i]}\")"
   ]
  },
  {
   "cell_type": "code",
   "execution_count": null,
   "id": "32768ba5",
   "metadata": {},
   "outputs": [],
   "source": [
    "# get text embedding\n",
    "def get_embedding(text, model=\"text-embedding-3-small\"):\n",
    "   text = text.replace(\"\\n\", \" \")\n",
    "   return client.embeddings.create(input = [text], model=model).data[0].embedding"
   ]
  },
  {
   "cell_type": "code",
   "execution_count": null,
   "id": "dd722ddd",
   "metadata": {},
   "outputs": [],
   "source": [
    "# get embedding list\n",
    "embedding_list = []\n",
    "for e in concept_list:\n",
    "    embedding_list.append(get_embedding(e))"
   ]
  },
  {
   "cell_type": "code",
   "execution_count": null,
   "id": "22677452",
   "metadata": {},
   "outputs": [],
   "source": [
    "# dump embedding list\n",
    "with open('data/CBT_V_concepts_embedding.pkl', 'wb') as file:\n",
    "    pickle.dump(np.array(embedding_list), file)"
   ]
  }
 ],
 "metadata": {
  "kernelspec": {
   "display_name": "Python 3 (ipykernel)",
   "language": "python",
   "name": "python3"
  },
  "language_info": {
   "codemirror_mode": {
    "name": "ipython",
    "version": 3
   },
   "file_extension": ".py",
   "mimetype": "text/x-python",
   "name": "python",
   "nbconvert_exporter": "python",
   "pygments_lexer": "ipython3",
   "version": "3.11.5"
  }
 },
 "nbformat": 4,
 "nbformat_minor": 5
}
